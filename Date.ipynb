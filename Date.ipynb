{
 "cells": [
  {
   "cell_type": "code",
   "execution_count": 78,
   "metadata": {},
   "outputs": [
    {
     "name": "stdout",
     "output_type": "stream",
     "text": [
      "HAN] ‘OODS\n",
      "HyperaRADe SIMANE-ANDARA. STILE\n",
      "\n",
      "87/1, 1st Floor, Jayalakhshmi Cha\n",
      "Residency Road, Bangalore-560025\n",
      "TEL:- 080-41308080\n",
      "\n",
      "TABLE: 32 Bill#:14\n",
      "Date ; 26/06/19 Std: GANESH\n",
      "Time : 13:27 Pax:1\n",
      "\n",
      "Qty Rate value\n",
      "\n",
      "LCKN B/% BRIYANI\n",
      "2Egg Biriyani\n",
      "SMineral Water\n",
      "\n",
      "CGT (@2.5%)\n",
      "SGT (@2.5%)\n",
      "\n",
      "GRAND TOTAL:- 528.00\n",
      "\n",
      "GsT#: 29AAPEM237201z2R\n",
      "THANK You\n",
      "SEE YOU soon\n"
     ]
    }
   ],
   "source": [
    "from PIL import Image\n",
    "import PIL.Image\n",
    "import pandas as pd\n",
    "from pytesseract import pytesseract as pytesser\n",
    "from pytesseract import image_to_string \n",
    "\n",
    "pytesser.tesseract_cmd = 'C:\\\\Program Files\\\\Tesseract-OCR\\\\tesseract.exe'\n",
    "TESSDATA_PREFIX = 'C:\\\\Program Files\\\\Tesseract-OCR\\\\tesseract.exe'\n",
    "output = image_to_string(PIL.Image.open('1 (198).jpeg').convert(\"RGB\"), lang='eng')\n",
    "print (output)\n"
   ]
  },
  {
   "cell_type": "code",
   "execution_count": 79,
   "metadata": {},
   "outputs": [],
   "source": [
    "f = open(\"output16.txt\", \"a\")\n",
    "print(output, file=f)\n",
    "f.close()"
   ]
  },
  {
   "cell_type": "code",
   "execution_count": 80,
   "metadata": {},
   "outputs": [
    {
     "name": "stdout",
     "output_type": "stream",
     "text": [
      "26/06/19\n"
     ]
    }
   ],
   "source": [
    "import re\n",
    "fin = open(\"output16.txt\",\"r\")\n",
    "text = fin.read()\n",
    "match=re.search(r'(\\d+/\\d+/\\d+)',text)\n",
    "print (match.group())\n"
   ]
  },
  {
   "cell_type": "code",
   "execution_count": null,
   "metadata": {},
   "outputs": [],
   "source": []
  }
 ],
 "metadata": {
  "kernelspec": {
   "display_name": "Python 3",
   "language": "python",
   "name": "python3"
  },
  "language_info": {
   "codemirror_mode": {
    "name": "ipython",
    "version": 3
   },
   "file_extension": ".py",
   "mimetype": "text/x-python",
   "name": "python",
   "nbconvert_exporter": "python",
   "pygments_lexer": "ipython3",
   "version": "3.7.3"
  }
 },
 "nbformat": 4,
 "nbformat_minor": 2
}
